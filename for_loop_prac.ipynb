{
  "nbformat": 4,
  "nbformat_minor": 0,
  "metadata": {
    "colab": {
      "provenance": []
    },
    "kernelspec": {
      "name": "python3",
      "display_name": "Python 3"
    },
    "language_info": {
      "name": "python"
    }
  },
  "cells": [
    {
      "cell_type": "code",
      "execution_count": null,
      "metadata": {
        "id": "ua0RjWDlVXJO",
        "colab": {
          "base_uri": "https://localhost:8080/"
        },
        "outputId": "7354cc23-ae5f-487a-aaf3-9bf242ee3435"
      },
      "outputs": [
        {
          "output_type": "stream",
          "name": "stdout",
          "text": [
            "0\n",
            "1\n",
            "2\n",
            "3\n",
            "4\n",
            "5\n",
            "6\n",
            "7\n",
            "8\n",
            "9\n",
            "10\n"
          ]
        }
      ],
      "source": [
        "for i in range(0,10+1): #print n natural numbers\n",
        "  print(i)"
      ]
    },
    {
      "cell_type": "code",
      "source": [
        "for i in range(0,20,2): #print even\n",
        "  print(i)"
      ],
      "metadata": {
        "colab": {
          "base_uri": "https://localhost:8080/"
        },
        "id": "iJe8ZmgFp6Hb",
        "outputId": "229065ee-e43d-49ae-81cc-46431e0a50b3"
      },
      "execution_count": null,
      "outputs": [
        {
          "output_type": "stream",
          "name": "stdout",
          "text": [
            "0\n",
            "2\n",
            "4\n",
            "6\n",
            "8\n",
            "10\n",
            "12\n",
            "14\n",
            "16\n",
            "18\n"
          ]
        }
      ]
    },
    {
      "cell_type": "code",
      "source": [
        "n = int(input(\"enter n:\")) #sum of n numbers\n",
        "sum = 0\n",
        "for i in range(1,n+1):\n",
        "  sum = sum + i\n",
        "print(sum)\n"
      ],
      "metadata": {
        "colab": {
          "base_uri": "https://localhost:8080/"
        },
        "id": "WvhAk7XCqqA8",
        "outputId": "6d99d79c-403f-434b-d5bc-8afc00e1e386"
      },
      "execution_count": null,
      "outputs": [
        {
          "output_type": "stream",
          "name": "stdout",
          "text": [
            "enter n:10\n",
            "55\n"
          ]
        }
      ]
    },
    {
      "cell_type": "code",
      "source": [
        "sum = 0 #sum of odd numbers\n",
        "for i in range(1,10,2):\n",
        "  sum = sum+i\n",
        "print(sum)"
      ],
      "metadata": {
        "colab": {
          "base_uri": "https://localhost:8080/"
        },
        "id": "oKDQUdUjsZqg",
        "outputId": "04a2ed77-804a-4136-9667-8d408cf8b00b"
      },
      "execution_count": null,
      "outputs": [
        {
          "output_type": "stream",
          "name": "stdout",
          "text": [
            "25\n"
          ]
        }
      ]
    },
    {
      "cell_type": "code",
      "source": [
        "a = int(input(\"enter a:\")) #table using for loop\n",
        "for i in range(1,11):\n",
        "  print(a,\"*\",i,\"=\",a*i)\n"
      ],
      "metadata": {
        "colab": {
          "base_uri": "https://localhost:8080/"
        },
        "id": "INflMpVAx0Vd",
        "outputId": "6299c468-fbc9-49c6-b715-98069cc1aad6"
      },
      "execution_count": null,
      "outputs": [
        {
          "output_type": "stream",
          "name": "stdout",
          "text": [
            "enter a:2\n",
            "2 * 1 = 2\n",
            "2 * 2 = 4\n",
            "2 * 3 = 6\n",
            "2 * 4 = 8\n",
            "2 * 5 = 10\n",
            "2 * 6 = 12\n",
            "2 * 7 = 14\n",
            "2 * 8 = 16\n",
            "2 * 9 = 18\n",
            "2 * 10 = 20\n"
          ]
        }
      ]
    },
    {
      "cell_type": "code",
      "source": [
        "a = [2,3,4,5,5,6,7,8] #print numbers in a list\n",
        "for i in a:\n",
        "  print(i)"
      ],
      "metadata": {
        "colab": {
          "base_uri": "https://localhost:8080/"
        },
        "id": "-yNyQRLWyhz9",
        "outputId": "fb44d65b-e3e9-4c7d-d2fc-47be93d54b02"
      },
      "execution_count": null,
      "outputs": [
        {
          "output_type": "stream",
          "name": "stdout",
          "text": [
            "2\n",
            "3\n",
            "4\n",
            "5\n",
            "5\n",
            "6\n",
            "7\n",
            "8\n"
          ]
        }
      ]
    },
    {
      "cell_type": "code",
      "source": [
        "a = 76543678 #count numbers\n",
        "b = str(a)\n",
        "len(b)\n"
      ],
      "metadata": {
        "colab": {
          "base_uri": "https://localhost:8080/"
        },
        "id": "iqK2uR-zy8kI",
        "outputId": "45878f83-a0b4-4cbb-aa7d-391f85baf44f"
      },
      "execution_count": null,
      "outputs": [
        {
          "output_type": "execute_result",
          "data": {
            "text/plain": [
              "8"
            ]
          },
          "metadata": {},
          "execution_count": 13
        }
      ]
    },
    {
      "cell_type": "code",
      "source": [
        "a = \"78738\"\n",
        "b = \"\"\n",
        "for i in a:\n",
        "  b = i+b\n",
        "print(b)"
      ],
      "metadata": {
        "colab": {
          "base_uri": "https://localhost:8080/"
        },
        "id": "jTMgcLIMzzJo",
        "outputId": "d06c39f8-7ef2-4c66-8bcc-3e8fcc78e876"
      },
      "execution_count": null,
      "outputs": [
        {
          "output_type": "stream",
          "name": "stdout",
          "text": [
            "83787\n"
          ]
        }
      ]
    },
    {
      "cell_type": "code",
      "source": [
        "a = \"deepika\" #reverse a string or palindrome\n",
        "b = \"\"\n",
        "for i in a:\n",
        "  b = i+b\n",
        "print(b)\n",
        "if a == b:\n",
        "  print(\"it is a palindrome\")\n",
        "else:\n",
        "  print(\"not a palindrome\")"
      ],
      "metadata": {
        "colab": {
          "base_uri": "https://localhost:8080/"
        },
        "id": "118VdpJyFIn0",
        "outputId": "3c0bcdc9-a3fe-45e4-8359-e3f4114be98e"
      },
      "execution_count": null,
      "outputs": [
        {
          "output_type": "stream",
          "name": "stdout",
          "text": [
            "akipeed\n",
            "not a palindrome\n"
          ]
        }
      ]
    },
    {
      "cell_type": "code",
      "source": [
        "a = 153 #armstrong\n",
        "b = str(a)\n",
        "c = 0\n",
        "for i in b:\n",
        "  c += int(i) ** len(b)\n",
        "print(c)\n",
        "if int(b) == c:\n",
        "  print(\"armstrong number\")\n",
        "else:\n",
        "  print(\"not armstrong\")"
      ],
      "metadata": {
        "colab": {
          "base_uri": "https://localhost:8080/"
        },
        "id": "RRBupWosGIcN",
        "outputId": "f05e4e76-37a2-4eef-f542-849f53996a68"
      },
      "execution_count": null,
      "outputs": [
        {
          "output_type": "stream",
          "name": "stdout",
          "text": [
            "153\n",
            "armstrong number\n"
          ]
        }
      ]
    },
    {
      "cell_type": "code",
      "source": [
        "b = [8,6,87,43,98] #print how many odd or even\n",
        "for i in b:\n",
        "  if i%2 == 0:\n",
        "    print(i,\"it is even\")\n",
        "  else:\n",
        "    print(i,\"it is odd\")"
      ],
      "metadata": {
        "colab": {
          "base_uri": "https://localhost:8080/"
        },
        "id": "0JqFgsHzp4wh",
        "outputId": "2eb1e7bc-8b8f-4fec-8411-ce889d29e832"
      },
      "execution_count": null,
      "outputs": [
        {
          "output_type": "stream",
          "name": "stdout",
          "text": [
            "8 it is even\n",
            "6 it is even\n",
            "87 it is odd\n",
            "43 it is odd\n",
            "98 it is even\n"
          ]
        }
      ]
    },
    {
      "cell_type": "code",
      "source": [
        "a = int(input(\"enter a: \"))\n",
        "if a>1:\n",
        "  for i in range(2,a):\n",
        "   if a%i == 0 :\n",
        "    print(a,\"is not prime\")\n",
        "    break\n",
        "  else:\n",
        "    print(a,\"is prime\")\n",
        "else:\n",
        "  print(\"Prime\")\n"
      ],
      "metadata": {
        "colab": {
          "base_uri": "https://localhost:8080/"
        },
        "id": "Rr8ZzN4FzFqx",
        "outputId": "d06c0d77-742a-4a09-8e3c-03befc2abc03"
      },
      "execution_count": null,
      "outputs": [
        {
          "output_type": "stream",
          "name": "stdout",
          "text": [
            "enter a: 15\n",
            "15 is not prime\n"
          ]
        }
      ]
    },
    {
      "cell_type": "code",
      "source": [
        "a = int(input(\"enter a: \"))\n",
        "b = int(input(\"enter b: \"))\n",
        "for j in range(a,b+1):\n",
        "\n",
        "  if j>1:\n",
        "    for i in range(2,j):\n",
        "      if j%i == 0 :\n",
        "       print(j,\"is not prime\")\n",
        "       break\n",
        "    else:\n",
        "      print(j,\"prime\")\n",
        "  else:\n",
        "    print(j,\"prime\")\n"
      ],
      "metadata": {
        "colab": {
          "base_uri": "https://localhost:8080/"
        },
        "id": "p40XV7XyfN-A",
        "outputId": "7a566960-d79f-4fdb-9245-a73ba64fca1b"
      },
      "execution_count": null,
      "outputs": [
        {
          "output_type": "stream",
          "name": "stdout",
          "text": [
            "enter a: 1\n",
            "enter b: 30\n",
            "1 prime\n",
            "2 prime\n",
            "3 prime\n",
            "4 is not prime\n",
            "5 prime\n",
            "6 is not prime\n",
            "7 prime\n",
            "8 is not prime\n",
            "9 is not prime\n",
            "10 is not prime\n",
            "11 prime\n",
            "12 is not prime\n",
            "13 prime\n",
            "14 is not prime\n",
            "15 is not prime\n",
            "16 is not prime\n",
            "17 prime\n",
            "18 is not prime\n",
            "19 prime\n",
            "20 is not prime\n",
            "21 is not prime\n",
            "22 is not prime\n",
            "23 prime\n",
            "24 is not prime\n",
            "25 is not prime\n",
            "26 is not prime\n",
            "27 is not prime\n",
            "28 is not prime\n",
            "29 prime\n",
            "30 is not prime\n"
          ]
        }
      ]
    },
    {
      "cell_type": "code",
      "source": [
        "n = int(input(\"enter n:\")) #fibonnaci\n",
        "a = 1\n",
        "b = 2\n",
        "c = 0\n",
        "for i in range(3,n+1):\n",
        "  c = a+b\n",
        "  a = b\n",
        "  b = c\n",
        "  print(c)\n",
        "\n",
        "\n",
        "\n"
      ],
      "metadata": {
        "colab": {
          "base_uri": "https://localhost:8080/"
        },
        "id": "jcVd3it_T5_3",
        "outputId": "02777f31-8ef8-493a-d6f0-47aeac357755"
      },
      "execution_count": null,
      "outputs": [
        {
          "output_type": "stream",
          "name": "stdout",
          "text": [
            "enter n:12\n",
            "3\n",
            "5\n",
            "8\n",
            "13\n",
            "21\n",
            "34\n",
            "55\n",
            "89\n",
            "144\n",
            "233\n"
          ]
        }
      ]
    },
    {
      "cell_type": "code",
      "source": [
        "n = int(input(\"enter n: \")) #factorial\n",
        "fact = 1\n",
        "for i in range(2,n+1):\n",
        "  fact = fact*i\n",
        "print(fact)"
      ],
      "metadata": {
        "colab": {
          "base_uri": "https://localhost:8080/"
        },
        "id": "d___d18Saga8",
        "outputId": "2a289019-337b-4764-c220-53892decf4fd"
      },
      "execution_count": null,
      "outputs": [
        {
          "output_type": "stream",
          "name": "stdout",
          "text": [
            "enter n: 5\n",
            "120\n"
          ]
        }
      ]
    },
    {
      "cell_type": "code",
      "source": [
        "a = int(input(\"enter a\"))\n",
        "n1 = 0\n",
        "n2 = 1\n",
        "\n",
        "n3=0\n",
        "for i in range(2,100):\n",
        "  n3 = n1+n2\n",
        "  n1 = n2\n",
        "  n2 = n3\n",
        "  if(a == n3 or a == 0 or a == 1):\n",
        "    print(\"yes\")\n",
        "    break\n",
        "else:\n",
        "  print(\"no\")"
      ],
      "metadata": {
        "colab": {
          "base_uri": "https://localhost:8080/"
        },
        "id": "owYfd9CUb8li",
        "outputId": "1b0c3dc2-fb46-4f6b-af3c-01ce4f889893"
      },
      "execution_count": null,
      "outputs": [
        {
          "output_type": "stream",
          "name": "stdout",
          "text": [
            "enter a6765\n",
            "yes\n"
          ]
        }
      ]
    },
    {
      "cell_type": "code",
      "source": [
        "a = str(input(\"enter a:\"))\n",
        "print(ord(a))"
      ],
      "metadata": {
        "colab": {
          "base_uri": "https://localhost:8080/"
        },
        "id": "23ygbPh4nJgw",
        "outputId": "d7aa03b5-5bd4-4400-bc8e-44e40d683b9b"
      },
      "execution_count": null,
      "outputs": [
        {
          "output_type": "stream",
          "name": "stdout",
          "text": [
            "enter a:g\n",
            "103\n"
          ]
        }
      ]
    },
    {
      "cell_type": "code",
      "source": [
        "a = int(input(\"enter a:\"))"
      ],
      "metadata": {
        "id": "Fh4eeh2xbygR",
        "colab": {
          "base_uri": "https://localhost:8080/"
        },
        "outputId": "167bf3fb-f8d3-4693-9ead-47093f95aaff"
      },
      "execution_count": null,
      "outputs": [
        {
          "output_type": "stream",
          "name": "stdout",
          "text": [
            "enter a:10\n",
            "385\n"
          ]
        }
      ]
    },
    {
      "cell_type": "code",
      "source": [
        "a = [2,3,4,5,6,7,8]\n",
        "b = int(input(\"enter b:\"))\n",
        "for i in a:\n",
        "    if b == i:\n",
        "      print(b,\"present\")\n",
        "      break\n",
        "else:\n",
        "    print(b,\"not present\")"
      ],
      "metadata": {
        "colab": {
          "base_uri": "https://localhost:8080/"
        },
        "id": "zCkRcS4Dq8ww",
        "outputId": "1ec0ed76-6622-4cb3-f489-109f7e21b31d"
      },
      "execution_count": null,
      "outputs": [
        {
          "output_type": "stream",
          "name": "stdout",
          "text": [
            "enter b:54\n",
            "54 not present\n"
          ]
        }
      ]
    }
  ]
}